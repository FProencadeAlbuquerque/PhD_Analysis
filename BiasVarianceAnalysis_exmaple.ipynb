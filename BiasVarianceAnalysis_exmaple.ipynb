{
  "nbformat": 4,
  "nbformat_minor": 0,
  "metadata": {
    "colab": {
      "provenance": [],
      "authorship_tag": "ABX9TyMrFITUuTOHuZ/ehhfY6uEl"
    },
    "kernelspec": {
      "name": "python3",
      "display_name": "Python 3"
    },
    "language_info": {
      "name": "python"
    }
  },
  "cells": [
    {
      "cell_type": "code",
      "execution_count": 1,
      "metadata": {
        "colab": {
          "base_uri": "https://localhost:8080/"
        },
        "id": "VJiH0ABfl0Dh",
        "outputId": "bcc9448e-db5c-4b61-e139-9634a3452c5d"
      },
      "outputs": [
        {
          "output_type": "stream",
          "name": "stdout",
          "text": [
            "Mounted at /content/drive\n"
          ]
        }
      ],
      "source": [
        "from google.colab import drive\n",
        "drive.mount('/content/drive')"
      ]
    },
    {
      "cell_type": "code",
      "source": [
        "import pandas as pd\n",
        "import numpy as np\n",
        "from sklearn.model_selection import train_test_split\n",
        "from sklearn.metrics import mean_squared_error, r2_score, mean_absolute_error\n",
        "from sklearn.tree import DecisionTreeRegressor \n",
        "import matplotlib.pyplot as plt"
      ],
      "metadata": {
        "id": "9UdLCf9amOHe"
      },
      "execution_count": 3,
      "outputs": []
    },
    {
      "cell_type": "code",
      "source": [
        "df = pd.read_csv('/content/drive/MyDrive/AlgoritmosDOC/ArtigoInduscon/Bus14.csv', sep = ',')\n",
        "\n",
        "target = 'LoadMargin'\n",
        "\n",
        "Y1=df['LoadMargin']\n",
        "\n",
        "X1=df.drop(columns=['LoadMargin'])\n",
        "\n",
        "X_train, X_test, y_train, y_test = train_test_split(X1, Y1, test_size=0.3, random_state=42, shuffle=True)\n",
        "\n",
        "DT = DecisionTreeRegressor(random_state=42)"
      ],
      "metadata": {
        "id": "SgGgvXu0mLbf"
      },
      "execution_count": 4,
      "outputs": []
    },
    {
      "cell_type": "code",
      "source": [
        "def bias_variance_estimate(\n",
        "  estimator, \n",
        "  X_train, \n",
        "  y_train, \n",
        "  X_test, \n",
        "  y_test, \n",
        "  bootstrap_rounds = 100\n",
        "):\n",
        "  \n",
        "  preds_test = pd.DataFrame(index = y_test.index)\n",
        "  for r in range(bootstrap_rounds):\n",
        "    boot = np.random.randint(len(y_train), size = len(y_train))\n",
        "    preds_test[f'Model {r}'] = estimator.fit(X_train.iloc[boot, :], y_train.iloc[boot]).predict(X_test)\n",
        "        \n",
        "  mean_pred_test = preds_test.mean(axis = 1)\n",
        " \n",
        "  mse = preds_test.apply(lambda pred_test: mean_squared_error(y_test, pred_test)).mean()\n",
        "\n",
        "  bias_squared = mean_squared_error(y_test, mean_pred_test)\n",
        "\n",
        "  variance = preds_test.apply(lambda pred_test: mean_squared_error(mean_pred_test, pred_test)).mean()\n",
        "    \n",
        "  return preds_test, mse, bias_squared, variance"
      ],
      "metadata": {
        "id": "MekfEp4wm3pO"
      },
      "execution_count": 6,
      "outputs": []
    },
    {
      "cell_type": "code",
      "source": [
        "preds_test, mse, bias_squared, variance=bias_variance_estimate(DT, X_train, \n",
        "  y_train, \n",
        "  X_test, \n",
        "  y_test, \n",
        "  bootstrap_rounds = 100)"
      ],
      "metadata": {
        "id": "e3GEu5KOnFsm"
      },
      "execution_count": 7,
      "outputs": []
    },
    {
      "cell_type": "code",
      "source": [
        "mse, bias_squared, variance"
      ],
      "metadata": {
        "colab": {
          "base_uri": "https://localhost:8080/"
        },
        "id": "5Qt_Q1JKnPb1",
        "outputId": "580b6472-cbfb-4515-fdc3-6c4158d254f8"
      },
      "execution_count": 8,
      "outputs": [
        {
          "output_type": "execute_result",
          "data": {
            "text/plain": [
              "(1.9102564863341491, 0.39769494352609724, 1.5125615428080506)"
            ]
          },
          "metadata": {},
          "execution_count": 8
        }
      ]
    },
    {
      "cell_type": "code",
      "source": [
        "variance+bias_squared"
      ],
      "metadata": {
        "colab": {
          "base_uri": "https://localhost:8080/"
        },
        "id": "9JXcV0A-nU6k",
        "outputId": "44374b2f-77fd-4f1a-ebfc-db814a50ab4c"
      },
      "execution_count": 9,
      "outputs": [
        {
          "output_type": "execute_result",
          "data": {
            "text/plain": [
              "1.9102564863341478"
            ]
          },
          "metadata": {},
          "execution_count": 9
        }
      ]
    }
  ]
}