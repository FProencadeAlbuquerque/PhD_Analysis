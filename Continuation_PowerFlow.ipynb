{
  "nbformat": 4,
  "nbformat_minor": 0,
  "metadata": {
    "colab": {
      "provenance": []
    },
    "kernelspec": {
      "name": "python3",
      "display_name": "Python 3"
    },
    "language_info": {
      "name": "python"
    }
  },
  "cells": [
    {
      "cell_type": "code",
      "execution_count": 1,
      "metadata": {
        "id": "qf-KXr_10Fm4"
      },
      "outputs": [],
      "source": [
        "import numpy as np\n",
        "\n",
        "import math as m"
      ]
    },
    {
      "cell_type": "code",
      "source": [
        "from google.colab import drive\n",
        "drive.mount('/content/drive')"
      ],
      "metadata": {
        "colab": {
          "base_uri": "https://localhost:8080/"
        },
        "id": "nZuuEBKwBH88",
        "outputId": "d60cd128-6a91-4baa-d4da-bec4c4383623"
      },
      "execution_count": 12,
      "outputs": [
        {
          "output_type": "stream",
          "name": "stdout",
          "text": [
            "Mounted at /content/drive\n"
          ]
        }
      ]
    },
    {
      "cell_type": "markdown",
      "source": [
        "![Sistema3.PNG](data:image/png;base64,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)\n"
      ],
      "metadata": {
        "id": "4kUFFaJa0d7M"
      }
    },
    {
      "cell_type": "markdown",
      "source": [
        "## Equações do Fluxo de pontência para a carga $S=P+j0$\n",
        "\n",
        "## $0=-P-0.995V\\cos(\\theta-95.7°)-0.995V^2\\cos(84.3°)$\n",
        "\n",
        "## $0=-0.995V\\sin(\\theta-95.7°)-0.995V^2\\sin(84.3°)$\n",
        "\n",
        "## Utilizando primeiro o parâmetro continuado como potência:\n",
        "\n",
        "## $\\lambda K=\\lambda \\begin{bmatrix} -1 \\\\ 0     \\end{bmatrix} $\n",
        "\n",
        "## Trocando no Fluxo de potência:\n",
        "\n",
        "## $0=-\\lambda K-0.995V\\cos(\\theta-95.7°)-0.995V^2\\cos(84.3°)$\n",
        "\n",
        "## $0=-0.995V\\sin(\\theta-95.7°)-0.995V^2\\sin(84.3°)$\n",
        "\n",
        "## Variáveis iniciais $\\theta, V, \\lambda$"
      ],
      "metadata": {
        "id": "Z_7FuLko0o-i"
      }
    },
    {
      "cell_type": "markdown",
      "source": [
        "## Predição:\n",
        "\n",
        "## $\\begin{bmatrix} \\theta \\\\ V \\\\ \\lambda \\end{bmatrix}^{predicted}= \\begin{bmatrix} \\theta \\\\ V \\\\ \\lambda \\end{bmatrix} ^i +\\sigma \\begin{bmatrix} J_{11} & J_{12} & K \\\\ J_{21} & J_{22} & 0 \\\\ 0 & 0 & 1   \\end{bmatrix} \\begin{bmatrix} 0 \\\\ 0 \\\\ 1 \\end{bmatrix}       $"
      ],
      "metadata": {
        "id": "N3NCR2lp8Xyk"
      }
    },
    {
      "cell_type": "markdown",
      "source": [
        "## Corretor: Resolver a equação do fluxo de potência com:\n",
        "\n",
        "## $0=-\\lambda_{predicted}-0.995V\\cos(\\theta-95.7°)-0.995V^2\\cos(84.3°)$\n",
        "\n",
        "## $0=-0.995V\\sin(\\theta-95.7°)-0.995V^2\\sin(84.3°)$\n"
      ],
      "metadata": {
        "id": "ZjuIowoGFenP"
      }
    },
    {
      "cell_type": "code",
      "source": [
        "niter=4\n",
        "\n",
        "niter2=18\n",
        "\n",
        "niter3=3\n",
        "\n",
        "n=niter+niter2+niter3\n",
        "\n",
        "theta=0\n",
        "\n",
        "V=1\n",
        "\n",
        "Lambda=0\n",
        "\n",
        "sigma=0.1\n",
        "\n",
        "X=np.array([theta,V,Lambda])\n",
        "\n",
        "theta_pred=np.ones(n)\n",
        "V_pred=np.ones(n)\n",
        "Lambda_pred=np.ones(n)\n",
        "\n",
        "theta_cor=np.ones(n)\n",
        "V_cor=np.ones(n)\n",
        "Lambda_cor=np.ones(n)\n",
        "\n",
        "for i in range(niter):\n",
        "\n",
        "  J11=0.995*V*m.sin(theta-(95.7*m.pi/180))\n",
        "\n",
        "  J12=-0.995*m.cos(theta-(95.7*m.pi/180))-1.99*V*m.cos(84.3*m.pi/180)\n",
        "\n",
        "  J21=-0.995*V*m.cos(theta-(95.7*m.pi/180))\n",
        "\n",
        "  J22=-0.995*m.sin(theta-(95.7*m.pi/180))-1.99*V*m.sin(84.3*m.pi/180)\n",
        "\n",
        "  JLF=[[J11,J12],[J21,J22]]\n",
        "\n",
        "  J=np.array([[J11,J12,-1],[J21,J22,0],[0,0,1]])\n",
        "\n",
        "  X=X+sigma*np.dot(np.linalg.inv(J),np.array([0,0,1]))\n",
        "\n",
        "  theta_pred[i]=X[0]\n",
        "  V_pred[i]=X[1]\n",
        "  Lambda_pred[i]=X[2]\n",
        "\n",
        "  theta=X[0]\n",
        "\n",
        "  V=X[1]\n",
        "\n",
        "  Lambda=X[2]\n",
        "\n",
        "  f1=-Lambda-0.995*V*m.cos(theta-(95.7*m.pi/180))-0.995*V*V*m.cos(84.3*m.pi/180)\n",
        "\n",
        "  f2=-0.995*V*m.sin(theta-(95.7*m.pi/180))-0.995*V*V*m.sin(84.3*m.pi/180)\n",
        "\n",
        "  Y=np.array([f1,f2])\n",
        "\n",
        "  J11=0.995*V*m.sin(theta-(95.7*m.pi/180))\n",
        "\n",
        "  J12=-0.995*m.cos(theta-(95.7*m.pi/180))-1.99*V*m.cos(84.3*m.pi/180)\n",
        "\n",
        "  J21=-0.995*V*m.cos(theta-(95.7*m.pi/180))\n",
        "\n",
        "  J22=-0.995*m.sin(theta-(95.7*m.pi/180))-1.99*V*m.sin(84.3*m.pi/180)\n",
        "\n",
        "  JLF=np.array([[J11,J12],[J21,J22]])\n",
        "\n",
        "  X[0:2]=X[0:2]-np.dot(np.linalg.inv(JLF),Y)\n",
        "\n",
        "  theta_cor[i]=X[0]\n",
        "  V_cor[i]=X[1]\n",
        "  Lambda_cor[i]=X[2]\n",
        "\n",
        "  theta=X[0]\n",
        "\n",
        "  V=X[1]\n",
        "\n",
        "  Lambda=X[2] "
      ],
      "metadata": {
        "id": "3HOJqduOHPkY"
      },
      "execution_count": 2,
      "outputs": []
    },
    {
      "cell_type": "code",
      "source": [
        "theta=theta_cor[niter-1]\n",
        "\n",
        "V=V_cor[niter-1]\n",
        "\n",
        "Lambda=Lambda_cor[niter-1]\n",
        "\n",
        "sigma=0.025\n",
        "\n",
        "X=np.array([theta,V,Lambda])\n",
        "\n",
        "for j in range(niter2):\n",
        "\n",
        "  J11=0.995*V*m.sin(theta-(95.7*m.pi/180))\n",
        "\n",
        "  J12=-0.995*m.cos(theta-(95.7*m.pi/180))-1.99*V*m.cos(84.3*m.pi/180)\n",
        "\n",
        "  J21=-0.995*V*m.cos(theta-(95.7*m.pi/180))\n",
        "\n",
        "  J22=-0.995*m.sin(theta-(95.7*m.pi/180))-1.99*V*m.sin(84.3*m.pi/180)\n",
        "\n",
        "  J=np.array([[J11,J12,-1],[J21,J22,0],[0,-1,0]])\n",
        "\n",
        "  X=X+sigma*np.dot(np.linalg.inv(J),np.array([0,0,1]))\n",
        "\n",
        "  theta_pred[j+niter]=X[0]\n",
        "  V_pred[j+niter]=X[1]\n",
        "  Lambda_pred[j+niter]=X[2]\n",
        "\n",
        "  theta=X[0]\n",
        "\n",
        "  V=X[1]\n",
        "\n",
        "  Lambda=X[2]\n",
        "\n",
        "  f1=-Lambda-0.995*V*m.cos(theta-(95.7*m.pi/180))-0.995*V*V*m.cos(84.3*m.pi/180)\n",
        "\n",
        "  f2=-0.995*V*m.sin(theta-(95.7*m.pi/180))-0.995*V*V*m.sin(84.3*m.pi/180)\n",
        "\n",
        "  f3=0\n",
        "\n",
        "  Y=np.array([f1,f2,f3])\n",
        "\n",
        "  J11=0.995*V*m.sin(theta-(95.7*m.pi/180))\n",
        "\n",
        "  J12=-0.995*m.cos(theta-(95.7*m.pi/180))-1.99*V*m.cos(84.3*m.pi/180)\n",
        "\n",
        "  J21=-0.995*V*m.cos(theta-(95.7*m.pi/180))\n",
        "\n",
        "  J22=-0.995*m.sin(theta-(95.7*m.pi/180))-1.99*V*m.sin(84.3*m.pi/180)\n",
        "\n",
        "  J=np.array([[J11,J12,-1],[J12,J22,0],[0,-1,0]])\n",
        "\n",
        "  X=X-np.dot(np.linalg.inv(J),Y)\n",
        "\n",
        "  theta_cor[j+niter]=X[0]\n",
        "  V_cor[j+niter]=X[1]\n",
        "  Lambda_cor[j+niter]=X[2]\n",
        "\n",
        "  theta=X[0]\n",
        "\n",
        "  V=X[1]\n",
        "\n",
        "  Lambda=X[2]"
      ],
      "metadata": {
        "id": "2RcH0nULMX6e"
      },
      "execution_count": 3,
      "outputs": []
    },
    {
      "cell_type": "code",
      "source": [
        "theta=theta_cor[niter+niter2-1]\n",
        "\n",
        "V=V_cor[niter+niter2-1]\n",
        "\n",
        "Lambda=Lambda_cor[niter+niter2-1]\n",
        "\n",
        "sigma=0.1\n",
        "\n",
        "X=np.array([theta,V,Lambda])\n",
        "\n",
        "for i in range(niter3):\n",
        "\n",
        "  J11=0.995*V*m.sin(theta-(95.7*m.pi/180))\n",
        "\n",
        "  J12=-0.995*m.cos(theta-(95.7*m.pi/180))-1.99*V*m.cos(84.3*m.pi/180)\n",
        "\n",
        "  J21=-0.995*V*m.cos(theta-(95.7*m.pi/180))\n",
        "\n",
        "  J22=-0.995*m.sin(theta-(95.7*m.pi/180))-1.99*V*m.sin(84.3*m.pi/180)\n",
        "\n",
        "  JLF=[[J11,J12],[J21,J22]]\n",
        "\n",
        "  J=np.array([[J11,J12,-1],[J21,J22,0],[0,0,-1]])\n",
        "\n",
        "  X=X+sigma*np.dot(np.linalg.inv(J),np.array([0,0,1]))\n",
        "\n",
        "  theta_pred[i+niter+niter2]=X[0]\n",
        "  V_pred[i+niter+niter2]=X[1]\n",
        "  Lambda_pred[i+niter+niter2]=X[2]\n",
        "\n",
        "  theta=X[0]\n",
        "\n",
        "  V=X[1]\n",
        "\n",
        "  Lambda=X[2]\n",
        "\n",
        "  f1=-Lambda-0.995*V*m.cos(theta-(95.7*m.pi/180))-0.995*V*V*m.cos(84.3*m.pi/180)\n",
        "\n",
        "  f2=-0.995*V*m.sin(theta-(95.7*m.pi/180))-0.995*V*V*m.sin(84.3*m.pi/180)\n",
        "\n",
        "  Y=np.array([f1,f2])\n",
        "\n",
        "  J11=0.995*V*m.sin(theta-(95.7*m.pi/180))\n",
        "\n",
        "  J12=-0.995*m.cos(theta-(95.7*m.pi/180))-1.99*V*m.cos(84.3*m.pi/180)\n",
        "\n",
        "  J21=-0.995*V*m.cos(theta-(95.7*m.pi/180))\n",
        "\n",
        "  J22=-0.995*m.sin(theta-(95.7*m.pi/180))-1.99*V*m.sin(84.3*m.pi/180)\n",
        "\n",
        "  JLF=np.array([[J11,J12],[J21,J22]])\n",
        "\n",
        "  X[0:2]=X[0:2]-np.dot(np.linalg.inv(JLF),Y)\n",
        "\n",
        "  theta_cor[i+niter+niter2]=X[0]\n",
        "  V_cor[i+niter+niter2]=X[1]\n",
        "  Lambda_cor[i+niter+niter2]=X[2]\n",
        "\n",
        "  theta=X[0]\n",
        "\n",
        "  V=X[1]\n",
        "\n",
        "  Lambda=X[2] "
      ],
      "metadata": {
        "id": "Yila-0nYeAOK"
      },
      "execution_count": 4,
      "outputs": []
    },
    {
      "cell_type": "code",
      "source": [
        "V_cor=list(V_cor)\n",
        "\n",
        "V_cor.append(0)\n",
        "\n",
        "Lambda_cor=list(Lambda_cor)\n",
        "\n",
        "Lambda_cor.append(0)\n",
        "\n",
        "V_cor=[1]+V_cor\n",
        "\n",
        "Lambda_cor=[0]+Lambda_cor"
      ],
      "metadata": {
        "id": "WoOpGvy0f-gr"
      },
      "execution_count": 5,
      "outputs": []
    },
    {
      "cell_type": "code",
      "source": [
        "import matplotlib.pyplot as plt\n",
        "\n",
        "fig, ax = plt.subplots(figsize = (13,8))\n",
        "\n",
        "axis_font = {'fontname':'sans-serif', 'size':'25'}\n",
        "\n",
        "plt.xlabel('lambda' r'$(\\lambda)$',**axis_font)\n",
        "plt.ylabel(r'$V \\ (pu)$',**axis_font)\n",
        "plt.yticks(fontsize=25)\n",
        "plt.xticks(fontsize=25)\n",
        "\n",
        "plt.xlim([0,0.46])\n",
        "\n",
        "plt.plot(Lambda_cor,V_cor,'o-',linewidth=3.0,markersize=10)\n",
        "\n",
        "plt.savefig('/content/drive/MyDrive/AlgoritmosDOC/Analises_Tese/CurvaP_V_CPF.eps', format='eps')\n",
        "\n",
        "plt.show()"
      ],
      "metadata": {
        "colab": {
          "base_uri": "https://localhost:8080/",
          "height": 527
        },
        "id": "Cqhy59RLUKEZ",
        "outputId": "d53a9559-e892-42a9-9fca-321b06de1b10"
      },
      "execution_count": 13,
      "outputs": [
        {
          "output_type": "display_data",
          "data": {
            "text/plain": [
              "<Figure size 936x576 with 1 Axes>"
            ],
            "image/png": "[encoded data removed]"
          },
          "metadata": {
            "needs_background": "light"
          }
        }
      ]
    }
  ]
}