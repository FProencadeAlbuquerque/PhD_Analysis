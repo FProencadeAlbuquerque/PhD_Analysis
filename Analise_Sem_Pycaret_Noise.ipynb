{
  "cells": [
    {
      "cell_type": "code",
      "execution_count": null,
      "metadata": {
        "colab": {
          "base_uri": "https://localhost:8080/"
        },
        "id": "wB5UOl9EufQw",
        "outputId": "2f3bd14a-06da-4dfe-82a5-cbec195f65f2"
      },
      "outputs": [
        {
          "output_type": "stream",
          "name": "stdout",
          "text": [
            "Mounted at /content/drive\n"
          ]
        }
      ],
      "source": [
        "from google.colab import drive\n",
        "drive.mount('/content/drive')"
      ]
    },
    {
      "cell_type": "code",
      "execution_count": null,
      "metadata": {
        "id": "ZOiqDwmetxNf"
      },
      "outputs": [],
      "source": [
        "!pip install crepes"
      ]
    },
    {
      "cell_type": "code",
      "execution_count": null,
      "metadata": {
        "id": "2259mZhNuvys"
      },
      "outputs": [],
      "source": [
        "import numpy as np\n",
        "import pandas as pd"
      ]
    },
    {
      "cell_type": "markdown",
      "metadata": {
        "id": "AQQK4hrFpzBS"
      },
      "source": [
        "### Base de dados contruída utilizando a ferramenta MATPOWER do MATLAB. Cada linha da base corresponde a alguns estados do sistema para uma dada condição e a correspondente margem P de carga calculada por meio do **fluxo de potência continuado** com um incremento de carga $(\\lambda)$ e utilizando as equações do fluxo de potência:\n",
        "\n",
        "## $ P_{Gi}(\\lambda)- P_{Li}(\\lambda)-|V_m|_i \\sum_{j=1}^n |V_m|_j|Y|_{ij} \\cos(\\delta_i -\\delta_j-\\theta_{ij})=0$\n",
        "\n",
        "## $ Q_{Gi}(\\lambda)- Q_{Li}(\\lambda)-|V_m|_i \\sum_{j=1}^n |V_m|_j|Y|_{ij} \\sin(\\delta_i -\\delta_j-\\theta_{ij})=0$\n",
        "\n",
        "Onde cada termo é controlado por:\n",
        "\n",
        "\n",
        "\n",
        "## *   ${P_{Li}(\\lambda)}={P_{L0i}}(1+\\lambda)$\n",
        "## *   ${Q_{Li}(\\lambda)}={Q_{L0i}}(1+\\lambda)$\n",
        "## *   ${ P_{Gi}(\\lambda)}={P_{G0i}}(1+\\lambda)$"
      ]
    },
    {
      "cell_type": "code",
      "execution_count": null,
      "metadata": {
        "id": "5P6baa8Uu1Ef"
      },
      "outputs": [],
      "source": [
        "from sklearn.model_selection import train_test_split\n",
        "from sklearn.ensemble import ExtraTreesRegressor\n",
        "from sklearn.metrics import mean_squared_error, r2_score, mean_absolute_error\n",
        "\n",
        "df = pd.read_csv('/content/drive/MyDrive/AlgoritmosDOC/Barras_Margem_Estabilidade/Bus4Contingecy.csv', sep = ',')"
      ]
    },
    {
      "cell_type": "markdown",
      "metadata": {
        "id": "_jLuxw_ypkOZ"
      },
      "source": [
        "Geração dos ruídos a serem inseridos no código:\n",
        "  \n",
        "## $w=(\\bar{X}+\\Delta_{\\rho,x}+\\xi_\\rho)e^{\\bar{\\phi}+\\Delta_{\\phi,x}+\\xi_\\phi}$\n",
        "\n",
        "Onde:\n",
        "\n",
        "\n",
        "## *   $\\bar{X},\\bar{\\phi} $ são os valores absolutos das grandezas de magnitude e fase;\n",
        "## *   $\\Delta_{\\rho,x} \\sim \\mathcal{N}(0,\\sigma_\\rho^2)$;\n",
        "\n",
        "## *   $\\Delta_{\\phi,x} \\sim \\mathcal{N}(0,\\sigma_\\phi^2)$. \n",
        "\n",
        "Correção de valores máximos $(\\alpha,\\beta)$ para desvio-padrão correspondente a 99,73%:\n",
        "\n",
        "\n",
        "\n",
        "## *   $\\Delta_{\\rho,x} \\sim \\mathcal{N}\\left(0,\\dfrac{\\sigma \\bar{X}}{3} \\right)$\n",
        "## *   $\\Delta_{\\phi,x} \\sim \\mathcal{N}\\left(0,\\dfrac{\\theta_{max}}{3} \\right)$\n",
        "\n",
        "Para os erros sistemáticos:\n",
        "\n",
        "## *   $\\xi_\\rho \\sim U \\left(-\\Delta,+\\Delta \\right)$\n",
        "\n",
        "Onde $\\Delta$ é o valor absoluto do desvio máximo. No módulo, $\\Delta=5\\%$ e na fase $\\Delta=9 \\times 10^{-3} \\ rad$."
      ]
    },
    {
      "cell_type": "code",
      "execution_count": null,
      "metadata": {
        "id": "uuGmzXBuHzZD"
      },
      "outputs": [],
      "source": [
        "######## Theta máxima é dado em graus\n",
        "\n",
        "thetamax =0.05729578\n",
        "\n",
        "##############################################\n",
        "\n",
        "########### Sigma é dado em porcentagem ######\n",
        "\n",
        "sigma=0.001\n",
        "\n",
        "##############################################\n",
        "\n",
        "n=len(df['V2'])\n",
        "np.random.seed(42)\n",
        "wV2 = df['V2'] +(np.random.uniform(-df['V2'].mean() * (0.005), df['V2'].mean() * (0.005), n))+ (df['V2'].mean() * (sigma / 3)) * np.random.normal(0, 1, n)\n",
        "np.random.seed(41)\n",
        "wTheta2 = df['Theta2']+ (np.random.uniform(-0.34377468, 0.34377468, n)) +(thetamax / 3) * np.random.normal(0, 1, n)\n",
        "np.random.seed(40)\n",
        "wV6 = df['V6'] +(np.random.uniform(-df['V6'].mean() * (0.005),df['V6'].mean() * (0.005), n))+( df['V6'].mean() * (sigma / 3)) * np.random.normal(0, 1, n)\n",
        "np.random.seed(39)\n",
        "wTheta6 = df['Theta6']+(np.random.uniform(-0.34377468 , 0.34377468 , n)) + (thetamax / 3) * np.random.normal(0, 1, n)\n",
        "np.random.seed(38)\n",
        "wV9 = df['V9']+ (np.random.uniform(-df['V9'].mean() * (0.005), df['V9'].mean() * (0.005), n))+(df['V9'].mean() * (sigma / 3)) * np.random.normal(0, 1, n)\n",
        "np.random.seed(37)\n",
        "wTheta9 = df['Theta9']+ (np.random.uniform(-0.34377468, 0.34377468, n))+(thetamax / 3) * np.random.normal(0, 1, n)"
      ]
    },
    {
      "cell_type": "code",
      "execution_count": null,
      "metadata": {
        "id": "0vDTkQeX3m0A"
      },
      "outputs": [],
      "source": [
        "df['V2']=wV2\n",
        "df['Theta2']=wTheta2\n",
        "df['V6']=wV6\n",
        "df['Theta6']=wTheta6\n",
        "df['V9']=wV9\n",
        "df['Theta9']=wTheta9"
      ]
    },
    {
      "cell_type": "markdown",
      "metadata": {
        "id": "nJmLRk7Vp-Gh"
      },
      "source": [
        "# Inserção de flags para:\n",
        "\n",
        "# *   `N1 = 1` Quando há um elemento fora da rede;\n",
        "# *   `N2 = 1` Quando há dois elementos fora da rede.\n",
        "\n"
      ]
    },
    {
      "cell_type": "code",
      "execution_count": null,
      "metadata": {
        "id": "JwNqxpRZu_5M"
      },
      "outputs": [],
      "source": [
        "n=3000 ### Numero de casos sem contingencia\n",
        "\n",
        "n1=5000 #### Numero de casos com contingencia do tipo N-1\n",
        "\n",
        "n2=2000 #### Numero de casos com contingencia do tipo N-2\n",
        "\n",
        "N1=np.array([0 for x in range(n)]+[1 for x in range(n1)]+[0 for x in range(n2)])\n",
        "\n",
        "N2=np.array([0 for x in range(n)]+[0 for x in range(n1)]+[1 for x in range(n2)])"
      ]
    },
    {
      "cell_type": "code",
      "execution_count": null,
      "metadata": {
        "id": "KR7PzSAlvDq7"
      },
      "outputs": [],
      "source": [
        "df.insert(24,'N1',N1)\n",
        "df.insert(25,'N2',N2)\n",
        "target = 'LoadMargin'\n",
        "df=df.query('LoadMargin > 0')"
      ]
    },
    {
      "cell_type": "code",
      "source": [
        "df"
      ],
      "metadata": {
        "colab": {
          "base_uri": "https://localhost:8080/",
          "height": 424
        },
        "id": "dUmi6s_68p0e",
        "outputId": "f500a9ba-b54d-4953-acb8-d225b94d8dda"
      },
      "execution_count": null,
      "outputs": [
        {
          "output_type": "execute_result",
          "data": {
            "text/plain": [
              "            V2        V6        V9    Theta2     Theta6     Theta9      P1  \\\n",
              "0     1.043226  1.069330  1.042236 -4.388380 -14.563669 -15.505482  219.16   \n",
              "1     1.049188  1.065094  1.045148 -5.263093 -17.396800 -20.016941  257.81   \n",
              "2     1.047483  1.072394  1.041043 -3.945208 -15.432852 -17.002717  213.30   \n",
              "3     1.045603  1.067137  1.041575 -5.008248 -17.167525 -18.901714  243.85   \n",
              "4     1.041890  1.069287  1.056813 -4.557956 -15.042710 -16.665111  223.79   \n",
              "...        ...       ...       ...       ...        ...        ...     ...   \n",
              "9995  1.003615  1.004650  1.004507  1.077341   0.915866   1.246958  265.62   \n",
              "9996  1.004296  1.000706  1.001257  1.166679   0.875536   0.701805  142.79   \n",
              "9997  1.004863  0.995892  0.996577  0.788843   0.881969   1.249496  205.87   \n",
              "9998  0.998725  1.000666  0.999416  1.289012   1.225160   1.219026  339.72   \n",
              "9999  0.997032  0.995152  1.001914  1.058392   1.071874   0.689449  213.91   \n",
              "\n",
              "          P4      Q4      P5  ...      Q11     P12     Q12      P13      Q13  \\\n",
              "0     50.680 -2.3934  9.0549  ...  1.21520  5.8941  2.0124   7.1195   7.8151   \n",
              "1     61.553 -2.8238  8.8499  ...  1.93170  7.7663  1.9200  12.5600   7.0251   \n",
              "2     22.686 -4.3438  8.0541  ...  1.62290  8.7877  1.3553  20.4420   7.2234   \n",
              "3     49.735 -5.5813  8.9699  ...  1.78750  4.3547  1.7065  16.9940  10.1860   \n",
              "4     47.440 -3.8937  8.2392  ...  1.60290  5.8423  2.1690  11.2400   6.5473   \n",
              "...      ...     ...     ...  ...      ...     ...     ...      ...      ...   \n",
              "9995  46.186 -4.0987  9.0884  ...  1.11210  6.5710  0.9973  13.0280   5.8044   \n",
              "9996  57.020 -4.2078  9.6114  ...  1.25890  6.1885  1.2065  16.7000   2.3033   \n",
              "9997  35.490 -4.2144  8.9285  ...  2.20560  7.1938  1.2859  15.5980   9.9823   \n",
              "9998  59.570 -3.4187  8.0719  ...  0.79261  6.6131  2.4517  11.7950   4.9277   \n",
              "9999  62.081 -3.8666  6.3389  ...  1.01630  7.3664  1.7596  14.1920   5.9243   \n",
              "\n",
              "         P14  N1  N2     Q14  LoadMargin  \n",
              "0     16.184   0   0  6.3712     100.670  \n",
              "1     16.872   0   0  5.7368     174.040  \n",
              "2     11.442   0   0  5.6327      93.595  \n",
              "3     13.882   0   0  4.3296     238.640  \n",
              "4     13.914   0   0  6.7714     126.850  \n",
              "...      ...  ..  ..     ...         ...  \n",
              "9995  15.541   0   1  5.0348     125.500  \n",
              "9996  15.921   0   1  5.3283     165.140  \n",
              "9997  16.225   0   1  4.2395     100.540  \n",
              "9998  13.763   0   1  4.7200     158.750  \n",
              "9999  18.370   0   1  6.2876     167.630  \n",
              "\n",
              "[9996 rows x 28 columns]"
            ],
            "text/html": [
              "\n",
              "  <div id=\"df-6af92b16-4e27-4238-9c1e-b0244da11e03\">\n",
              "    <div class=\"colab-df-container\">\n",
              "      <div>\n",
              "<style scoped>\n",
              "    .dataframe tbody tr th:only-of-type {\n",
              "        vertical-align: middle;\n",
              "    }\n",
              "\n",
              "    .dataframe tbody tr th {\n",
              "        vertical-align: top;\n",
              "    }\n",
              "\n",
              "    .dataframe thead th {\n",
              "        text-align: right;\n",
              "    }\n",
              "</style>\n",
              "<table border=\"1\" class=\"dataframe\">\n",
              "  <thead>\n",
              "    <tr style=\"text-align: right;\">\n",
              "      <th></th>\n",
              "      <th>V2</th>\n",
              "      <th>V6</th>\n",
              "      <th>V9</th>\n",
              "      <th>Theta2</th>\n",
              "      <th>Theta6</th>\n",
              "      <th>Theta9</th>\n",
              "      <th>P1</th>\n",
              "      <th>P4</th>\n",
              "      <th>Q4</th>\n",
              "      <th>P5</th>\n",
              "      <th>...</th>\n",
              "      <th>Q11</th>\n",
              "      <th>P12</th>\n",
              "      <th>Q12</th>\n",
              "      <th>P13</th>\n",
              "      <th>Q13</th>\n",
              "      <th>P14</th>\n",
              "      <th>N1</th>\n",
              "      <th>N2</th>\n",
              "      <th>Q14</th>\n",
              "      <th>LoadMargin</th>\n",
              "    </tr>\n",
              "  </thead>\n",
              "  <tbody>\n",
              "    <tr>\n",
              "      <th>0</th>\n",
              "      <td>1.043226</td>\n",
              "      <td>1.069330</td>\n",
              "      <td>1.042236</td>\n",
              "      <td>-4.388380</td>\n",
              "      <td>-14.563669</td>\n",
              "      <td>-15.505482</td>\n",
              "      <td>219.16</td>\n",
              "      <td>50.680</td>\n",
              "      <td>-2.3934</td>\n",
              "      <td>9.0549</td>\n",
              "      <td>...</td>\n",
              "      <td>1.21520</td>\n",
              "      <td>5.8941</td>\n",
              "      <td>2.0124</td>\n",
              "      <td>7.1195</td>\n",
              "      <td>7.8151</td>\n",
              "      <td>16.184</td>\n",
              "      <td>0</td>\n",
              "      <td>0</td>\n",
              "      <td>6.3712</td>\n",
              "      <td>100.670</td>\n",
              "    </tr>\n",
              "    <tr>\n",
              "      <th>1</th>\n",
              "      <td>1.049188</td>\n",
              "      <td>1.065094</td>\n",
              "      <td>1.045148</td>\n",
              "      <td>-5.263093</td>\n",
              "      <td>-17.396800</td>\n",
              "      <td>-20.016941</td>\n",
              "      <td>257.81</td>\n",
              "      <td>61.553</td>\n",
              "      <td>-2.8238</td>\n",
              "      <td>8.8499</td>\n",
              "      <td>...</td>\n",
              "      <td>1.93170</td>\n",
              "      <td>7.7663</td>\n",
              "      <td>1.9200</td>\n",
              "      <td>12.5600</td>\n",
              "      <td>7.0251</td>\n",
              "      <td>16.872</td>\n",
              "      <td>0</td>\n",
              "      <td>0</td>\n",
              "      <td>5.7368</td>\n",
              "      <td>174.040</td>\n",
              "    </tr>\n",
              "    <tr>\n",
              "      <th>2</th>\n",
              "      <td>1.047483</td>\n",
              "      <td>1.072394</td>\n",
              "      <td>1.041043</td>\n",
              "      <td>-3.945208</td>\n",
              "      <td>-15.432852</td>\n",
              "      <td>-17.002717</td>\n",
              "      <td>213.30</td>\n",
              "      <td>22.686</td>\n",
              "      <td>-4.3438</td>\n",
              "      <td>8.0541</td>\n",
              "      <td>...</td>\n",
              "      <td>1.62290</td>\n",
              "      <td>8.7877</td>\n",
              "      <td>1.3553</td>\n",
              "      <td>20.4420</td>\n",
              "      <td>7.2234</td>\n",
              "      <td>11.442</td>\n",
              "      <td>0</td>\n",
              "      <td>0</td>\n",
              "      <td>5.6327</td>\n",
              "      <td>93.595</td>\n",
              "    </tr>\n",
              "    <tr>\n",
              "      <th>3</th>\n",
              "      <td>1.045603</td>\n",
              "      <td>1.067137</td>\n",
              "      <td>1.041575</td>\n",
              "      <td>-5.008248</td>\n",
              "      <td>-17.167525</td>\n",
              "      <td>-18.901714</td>\n",
              "      <td>243.85</td>\n",
              "      <td>49.735</td>\n",
              "      <td>-5.5813</td>\n",
              "      <td>8.9699</td>\n",
              "      <td>...</td>\n",
              "      <td>1.78750</td>\n",
              "      <td>4.3547</td>\n",
              "      <td>1.7065</td>\n",
              "      <td>16.9940</td>\n",
              "      <td>10.1860</td>\n",
              "      <td>13.882</td>\n",
              "      <td>0</td>\n",
              "      <td>0</td>\n",
              "      <td>4.3296</td>\n",
              "      <td>238.640</td>\n",
              "    </tr>\n",
              "    <tr>\n",
              "      <th>4</th>\n",
              "      <td>1.041890</td>\n",
              "      <td>1.069287</td>\n",
              "      <td>1.056813</td>\n",
              "      <td>-4.557956</td>\n",
              "      <td>-15.042710</td>\n",
              "      <td>-16.665111</td>\n",
              "      <td>223.79</td>\n",
              "      <td>47.440</td>\n",
              "      <td>-3.8937</td>\n",
              "      <td>8.2392</td>\n",
              "      <td>...</td>\n",
              "      <td>1.60290</td>\n",
              "      <td>5.8423</td>\n",
              "      <td>2.1690</td>\n",
              "      <td>11.2400</td>\n",
              "      <td>6.5473</td>\n",
              "      <td>13.914</td>\n",
              "      <td>0</td>\n",
              "      <td>0</td>\n",
              "      <td>6.7714</td>\n",
              "      <td>126.850</td>\n",
              "    </tr>\n",
              "    <tr>\n",
              "      <th>...</th>\n",
              "      <td>...</td>\n",
              "      <td>...</td>\n",
              "      <td>...</td>\n",
              "      <td>...</td>\n",
              "      <td>...</td>\n",
              "      <td>...</td>\n",
              "      <td>...</td>\n",
              "      <td>...</td>\n",
              "      <td>...</td>\n",
              "      <td>...</td>\n",
              "      <td>...</td>\n",
              "      <td>...</td>\n",
              "      <td>...</td>\n",
              "      <td>...</td>\n",
              "      <td>...</td>\n",
              "      <td>...</td>\n",
              "      <td>...</td>\n",
              "      <td>...</td>\n",
              "      <td>...</td>\n",
              "      <td>...</td>\n",
              "      <td>...</td>\n",
              "    </tr>\n",
              "    <tr>\n",
              "      <th>9995</th>\n",
              "      <td>1.003615</td>\n",
              "      <td>1.004650</td>\n",
              "      <td>1.004507</td>\n",
              "      <td>1.077341</td>\n",
              "      <td>0.915866</td>\n",
              "      <td>1.246958</td>\n",
              "      <td>265.62</td>\n",
              "      <td>46.186</td>\n",
              "      <td>-4.0987</td>\n",
              "      <td>9.0884</td>\n",
              "      <td>...</td>\n",
              "      <td>1.11210</td>\n",
              "      <td>6.5710</td>\n",
              "      <td>0.9973</td>\n",
              "      <td>13.0280</td>\n",
              "      <td>5.8044</td>\n",
              "      <td>15.541</td>\n",
              "      <td>0</td>\n",
              "      <td>1</td>\n",
              "      <td>5.0348</td>\n",
              "      <td>125.500</td>\n",
              "    </tr>\n",
              "    <tr>\n",
              "      <th>9996</th>\n",
              "      <td>1.004296</td>\n",
              "      <td>1.000706</td>\n",
              "      <td>1.001257</td>\n",
              "      <td>1.166679</td>\n",
              "      <td>0.875536</td>\n",
              "      <td>0.701805</td>\n",
              "      <td>142.79</td>\n",
              "      <td>57.020</td>\n",
              "      <td>-4.2078</td>\n",
              "      <td>9.6114</td>\n",
              "      <td>...</td>\n",
              "      <td>1.25890</td>\n",
              "      <td>6.1885</td>\n",
              "      <td>1.2065</td>\n",
              "      <td>16.7000</td>\n",
              "      <td>2.3033</td>\n",
              "      <td>15.921</td>\n",
              "      <td>0</td>\n",
              "      <td>1</td>\n",
              "      <td>5.3283</td>\n",
              "      <td>165.140</td>\n",
              "    </tr>\n",
              "    <tr>\n",
              "      <th>9997</th>\n",
              "      <td>1.004863</td>\n",
              "      <td>0.995892</td>\n",
              "      <td>0.996577</td>\n",
              "      <td>0.788843</td>\n",
              "      <td>0.881969</td>\n",
              "      <td>1.249496</td>\n",
              "      <td>205.87</td>\n",
              "      <td>35.490</td>\n",
              "      <td>-4.2144</td>\n",
              "      <td>8.9285</td>\n",
              "      <td>...</td>\n",
              "      <td>2.20560</td>\n",
              "      <td>7.1938</td>\n",
              "      <td>1.2859</td>\n",
              "      <td>15.5980</td>\n",
              "      <td>9.9823</td>\n",
              "      <td>16.225</td>\n",
              "      <td>0</td>\n",
              "      <td>1</td>\n",
              "      <td>4.2395</td>\n",
              "      <td>100.540</td>\n",
              "    </tr>\n",
              "    <tr>\n",
              "      <th>9998</th>\n",
              "      <td>0.998725</td>\n",
              "      <td>1.000666</td>\n",
              "      <td>0.999416</td>\n",
              "      <td>1.289012</td>\n",
              "      <td>1.225160</td>\n",
              "      <td>1.219026</td>\n",
              "      <td>339.72</td>\n",
              "      <td>59.570</td>\n",
              "      <td>-3.4187</td>\n",
              "      <td>8.0719</td>\n",
              "      <td>...</td>\n",
              "      <td>0.79261</td>\n",
              "      <td>6.6131</td>\n",
              "      <td>2.4517</td>\n",
              "      <td>11.7950</td>\n",
              "      <td>4.9277</td>\n",
              "      <td>13.763</td>\n",
              "      <td>0</td>\n",
              "      <td>1</td>\n",
              "      <td>4.7200</td>\n",
              "      <td>158.750</td>\n",
              "    </tr>\n",
              "    <tr>\n",
              "      <th>9999</th>\n",
              "      <td>0.997032</td>\n",
              "      <td>0.995152</td>\n",
              "      <td>1.001914</td>\n",
              "      <td>1.058392</td>\n",
              "      <td>1.071874</td>\n",
              "      <td>0.689449</td>\n",
              "      <td>213.91</td>\n",
              "      <td>62.081</td>\n",
              "      <td>-3.8666</td>\n",
              "      <td>6.3389</td>\n",
              "      <td>...</td>\n",
              "      <td>1.01630</td>\n",
              "      <td>7.3664</td>\n",
              "      <td>1.7596</td>\n",
              "      <td>14.1920</td>\n",
              "      <td>5.9243</td>\n",
              "      <td>18.370</td>\n",
              "      <td>0</td>\n",
              "      <td>1</td>\n",
              "      <td>6.2876</td>\n",
              "      <td>167.630</td>\n",
              "    </tr>\n",
              "  </tbody>\n",
              "</table>\n",
              "<p>9996 rows × 28 columns</p>\n",
              "</div>\n",
              "      <button class=\"colab-df-convert\" onclick=\"convertToInteractive('df-6af92b16-4e27-4238-9c1e-b0244da11e03')\"\n",
              "              title=\"Convert this dataframe to an interactive table.\"\n",
              "              style=\"display:none;\">\n",
              "        \n",
              "  <svg xmlns=\"http://www.w3.org/2000/svg\" height=\"24px\"viewBox=\"0 0 24 24\"\n",
              "       width=\"24px\">\n",
              "    <path d=\"M0 0h24v24H0V0z\" fill=\"none\"/>\n",
              "    <path d=\"M18.56 5.44l.94 2.06.94-2.06 2.06-.94-2.06-.94-.94-2.06-.94 2.06-2.06.94zm-11 1L8.5 8.5l.94-2.06 2.06-.94-2.06-.94L8.5 2.5l-.94 2.06-2.06.94zm10 10l.94 2.06.94-2.06 2.06-.94-2.06-.94-.94-2.06-.94 2.06-2.06.94z\"/><path d=\"M17.41 7.96l-1.37-1.37c-.4-.4-.92-.59-1.43-.59-.52 0-1.04.2-1.43.59L10.3 9.45l-7.72 7.72c-.78.78-.78 2.05 0 2.83L4 21.41c.39.39.9.59 1.41.59.51 0 1.02-.2 1.41-.59l7.78-7.78 2.81-2.81c.8-.78.8-2.07 0-2.86zM5.41 20L4 18.59l7.72-7.72 1.47 1.35L5.41 20z\"/>\n",
              "  </svg>\n",
              "      </button>\n",
              "      \n",
              "  <style>\n",
              "    .colab-df-container {\n",
              "      display:flex;\n",
              "      flex-wrap:wrap;\n",
              "      gap: 12px;\n",
              "    }\n",
              "\n",
              "    .colab-df-convert {\n",
              "      background-color: #E8F0FE;\n",
              "      border: none;\n",
              "      border-radius: 50%;\n",
              "      cursor: pointer;\n",
              "      display: none;\n",
              "      fill: #1967D2;\n",
              "      height: 32px;\n",
              "      padding: 0 0 0 0;\n",
              "      width: 32px;\n",
              "    }\n",
              "\n",
              "    .colab-df-convert:hover {\n",
              "      background-color: #E2EBFA;\n",
              "      box-shadow: 0px 1px 2px rgba(60, 64, 67, 0.3), 0px 1px 3px 1px rgba(60, 64, 67, 0.15);\n",
              "      fill: #174EA6;\n",
              "    }\n",
              "\n",
              "    [theme=dark] .colab-df-convert {\n",
              "      background-color: #3B4455;\n",
              "      fill: #D2E3FC;\n",
              "    }\n",
              "\n",
              "    [theme=dark] .colab-df-convert:hover {\n",
              "      background-color: #434B5C;\n",
              "      box-shadow: 0px 1px 3px 1px rgba(0, 0, 0, 0.15);\n",
              "      filter: drop-shadow(0px 1px 2px rgba(0, 0, 0, 0.3));\n",
              "      fill: #FFFFFF;\n",
              "    }\n",
              "  </style>\n",
              "\n",
              "      <script>\n",
              "        const buttonEl =\n",
              "          document.querySelector('#df-6af92b16-4e27-4238-9c1e-b0244da11e03 button.colab-df-convert');\n",
              "        buttonEl.style.display =\n",
              "          google.colab.kernel.accessAllowed ? 'block' : 'none';\n",
              "\n",
              "        async function convertToInteractive(key) {\n",
              "          const element = document.querySelector('#df-6af92b16-4e27-4238-9c1e-b0244da11e03');\n",
              "          const dataTable =\n",
              "            await google.colab.kernel.invokeFunction('convertToInteractive',\n",
              "                                                     [key], {});\n",
              "          if (!dataTable) return;\n",
              "\n",
              "          const docLinkHtml = 'Like what you see? Visit the ' +\n",
              "            '<a target=\"_blank\" href=https://colab.research.google.com/notebooks/data_table.ipynb>data table notebook</a>'\n",
              "            + ' to learn more about interactive tables.';\n",
              "          element.innerHTML = '';\n",
              "          dataTable['output_type'] = 'display_data';\n",
              "          await google.colab.output.renderOutput(dataTable, element);\n",
              "          const docLink = document.createElement('div');\n",
              "          docLink.innerHTML = docLinkHtml;\n",
              "          element.appendChild(docLink);\n",
              "        }\n",
              "      </script>\n",
              "    </div>\n",
              "  </div>\n",
              "  "
            ]
          },
          "metadata": {},
          "execution_count": 9
        }
      ]
    },
    {
      "cell_type": "markdown",
      "metadata": {
        "id": "jeY_Cvp1qbER"
      },
      "source": []
    },
    {
      "cell_type": "code",
      "execution_count": null,
      "metadata": {
        "id": "V-XFz7U5qLeO"
      },
      "outputs": [],
      "source": [
        "from google.colab import data_table\n",
        "data_table.DataTable(df, include_index=False, num_rows_per_page=20)"
      ]
    },
    {
      "cell_type": "markdown",
      "metadata": {
        "id": "cZpa0YB4qlym"
      },
      "source": [
        "$RMSE=\\sqrt{\\dfrac{1}{n} \\displaystyle {\\sum_{j=1}^n (y_j-\\hat y_j)}}$\n",
        "\n",
        "$MAE={\\dfrac{1}{n} \\displaystyle {\\sum_{j=1}^n |y_j-\\hat y_j|}}$\n",
        "\n",
        "$MAPE={\\dfrac{1}{n} \\displaystyle {\\sum_{j=1}^n  \\dfrac{|y_j-\\hat y_j|}{|y_j|} } }, \\ \\text{se} \\ y_j \\neq 0$"
      ]
    },
    {
      "cell_type": "code",
      "execution_count": null,
      "metadata": {
        "id": "hb3-WuOMvWkO"
      },
      "outputs": [],
      "source": [
        "def evaluate(y_true, y_hat, label='test'):\n",
        "    mse = mean_squared_error(y_true, y_hat)\n",
        "    rmse = np.sqrt(mse)\n",
        "    variance = r2_score(y_true, y_hat)\n",
        "    aux=[]\n",
        "    for i in range(len(y_true)):\n",
        "      if np.array(y_true)[i] !=0:\n",
        "        desv=(abs((np.array(y_true)[i]-np.array(y_hat)[i])/np.array(y_true)[i]))\n",
        "        aux.append(desv)\n",
        "      else:\n",
        "        aux.append(0)\n",
        "    MAPE=abs(100*np.mean(aux))\n",
        "    print('{} set RMSE:{}, R2:{}, MAPE:{}'.format(label, rmse, variance,MAPE))"
      ]
    },
    {
      "cell_type": "code",
      "execution_count": null,
      "metadata": {
        "id": "EUtwTdmZ6-CF"
      },
      "outputs": [],
      "source": [
        "def evaluate2(y_true, y_hat, label='test'):\n",
        "    mse = mean_squared_error(y_true, y_hat)\n",
        "    rmse = np.sqrt(mse)\n",
        "    variance = r2_score(y_true, y_hat)\n",
        "    aux=[]\n",
        "    for i in range(len(y_true)):\n",
        "      if np.array(y_true)[i] !=0:\n",
        "        desv=(abs((np.array(y_true)[i]-np.array(y_hat)[i])/np.array(y_true)[i]))\n",
        "        aux.append(desv)\n",
        "      else:\n",
        "        aux.append(0)\n",
        "    MAPE=abs(100*np.mean(aux))\n",
        "    return MAPE"
      ]
    },
    {
      "cell_type": "markdown",
      "metadata": {
        "id": "WkvuzRLqsE9a"
      },
      "source": [
        "# Polynomial Features grau (n)\n",
        "\n",
        "## Criação de variáveis do tipo:\n",
        "\n",
        "# $x_1, \\ x_2, \\ x_1x_2, \\ x_1^2, \\ x_2^2, \\  x_1^2x_2^2, \\ldots$\n",
        "\n",
        "## Como forma de melhorar a performance da regressão."
      ]
    },
    {
      "cell_type": "code",
      "execution_count": null,
      "metadata": {
        "id": "ynLPSPgIPeSu"
      },
      "outputs": [],
      "source": [
        "from sklearn.preprocessing import PolynomialFeatures\n",
        "\n",
        "Y1=df['LoadMargin']\n",
        "\n",
        "X1=df.drop(columns=['LoadMargin'])\n",
        "\n",
        "trans = PolynomialFeatures(degree=2)\n",
        "\n",
        "X1 = trans.fit_transform(X1)"
      ]
    },
    {
      "cell_type": "markdown",
      "metadata": {
        "id": "sKZj-Q0jvLSF"
      },
      "source": [
        "# Implementação do melhor modelo obtido por meio do AutoML pycaret\n",
        "\n",
        "## Nesse caso, Extra Tree Regressor:\n",
        "\n",
        "[Link Para o Extra Tree Regressor em Python ](https://scikit-learn.org/stable/modules/generated/sklearn.ensemble.ExtraTreesRegressor.html)\n",
        "\n",
        "[Link para o paper original Extra Tree Regressor ](https://link.springer.com/content/pdf/10.1007/s10994-006-6226-1.pdf)"
      ]
    },
    {
      "cell_type": "code",
      "execution_count": null,
      "metadata": {
        "colab": {
          "base_uri": "https://localhost:8080/"
        },
        "id": "kfy05oJ-vKKG",
        "outputId": "31caed94-e384-4aeb-faae-e7f5a6cf7803"
      },
      "outputs": [
        {
          "output_type": "stream",
          "name": "stdout",
          "text": [
            "train set RMSE:2.0728333412048306e-13, R2:1.0, MAPE:1.2270042012696576e-13\n",
            "test set RMSE:14.636318040527375, R2:0.8474950723554325, MAPE:6.649322056159324\n"
          ]
        }
      ],
      "source": [
        "Y1=df['LoadMargin']\n",
        "\n",
        "X1=df.drop(columns=['LoadMargin'])\n",
        "\n",
        "X_train1, X_test1, y_train1, y_test1 = train_test_split(X1, Y1, test_size=0.3, random_state=42, shuffle=True)\n",
        "\n",
        "reg1 = ExtraTreesRegressor(n_estimators=100, random_state=42).fit(X_train1, y_train1)\n",
        "\n",
        "y_predict_train=reg1.predict(X_train1)\n",
        "y_predict_test=reg1.predict(X_test1)\n",
        "\n",
        "evaluate(y_train1,y_predict_train,'train')\n",
        "evaluate(y_test1,y_predict_test)"
      ]
    },
    {
      "cell_type": "code",
      "source": [
        "Y1=df['LoadMargin']\n",
        "\n",
        "X1=np.array(df['P4']).reshape(-1, 1)\n",
        "\n",
        "X_train1, X_test1, y_train1, y_test1 = train_test_split(X1, Y1, test_size=0.3, random_state=42, shuffle=True)\n",
        "\n",
        "reg1 = ExtraTreesRegressor(n_estimators=100, random_state=42).fit(X_train1, y_train1)\n",
        "\n",
        "y_predict_train=reg1.predict(X_train1)\n",
        "y_predict_test=reg1.predict(X_test1)\n",
        "\n",
        "evaluate(y_train1,y_predict_train,'train')\n",
        "evaluate(y_test1,y_predict_test)"
      ],
      "metadata": {
        "colab": {
          "base_uri": "https://localhost:8080/"
        },
        "id": "QnZfb4sZEN6C",
        "outputId": "b27665d8-56f8-483f-ad26-259f75eecccb"
      },
      "execution_count": null,
      "outputs": [
        {
          "output_type": "stream",
          "name": "stdout",
          "text": [
            "train set RMSE:10.090648171501586, R2:0.9290757147927834, MAPE:3.005272540866942\n",
            "test set RMSE:28.347518304287476, R2:0.42792852994549546, MAPE:15.210636541794539\n"
          ]
        }
      ]
    },
    {
      "cell_type": "markdown",
      "metadata": {
        "id": "3N38sW-6uUJC"
      },
      "source": [
        "# Busca dos melhores hyperparâmetros do Modelo escolhido\n",
        "\n",
        "## A busca é feita por exaustão. Rodando os modelos com cada combinação"
      ]
    },
    {
      "cell_type": "code",
      "execution_count": null,
      "metadata": {
        "colab": {
          "base_uri": "https://localhost:8080/"
        },
        "id": "l0Vw18Gc1WIP",
        "outputId": "322032ad-4f9d-454a-e636-4158525dbafe"
      },
      "outputs": [
        {
          "name": "stdout",
          "output_type": "stream",
          "text": [
            "Best: -0.087786 using {'max_depth': 12}\n"
          ]
        }
      ],
      "source": [
        "from sklearn.model_selection import GridSearchCV\n",
        "\n",
        "gsc = GridSearchCV(\n",
        "    estimator=reg1,\n",
        "    param_grid={\n",
        "       'n_estimators': range(50,126,25),\n",
        "       'max_features': range(50,401,50),\n",
        "       'min_samples_leaf': range(20,50,5),\n",
        "       'min_samples_split': range(15,36,5),\n",
        "       \"max_depth\" : [1,3,5,7,9,11,12],\n",
        "    },\n",
        "    scoring='neg_mean_absolute_percentage_error',\n",
        "    cv=5\n",
        ")\n",
        "\n",
        "grid_result = gsc.fit(X_train1, y_train1)\n",
        "\n",
        "print(\"Best: %f using %s\" % (grid_result.best_score_, grid_result.best_params_))"
      ]
    },
    {
      "cell_type": "code",
      "execution_count": null,
      "metadata": {
        "id": "P7zXhSAS8SCW"
      },
      "outputs": [],
      "source": [
        "!pip install shap"
      ]
    },
    {
      "cell_type": "markdown",
      "metadata": {
        "id": "v04xPcKwu4zY"
      },
      "source": [
        "# SHAP Values como método de Explainable AI\n"
      ]
    },
    {
      "cell_type": "code",
      "execution_count": null,
      "metadata": {
        "colab": {
          "base_uri": "https://localhost:8080/"
        },
        "id": "YR6eWGDM8jh9",
        "outputId": "7f4ddaf8-31f7-4979-e9b6-7eb1bd936a37"
      },
      "outputs": [
        {
          "name": "stderr",
          "output_type": "stream",
          "text": [
            "Permutation explainer: 3000it [43:02,  1.16it/s]\n"
          ]
        }
      ],
      "source": [
        "#### Shap aplicado de forma direta ######\n",
        "\n",
        "import shap as shap\n",
        "explainer = shap.Explainer(reg1.predict, X_test1)\n",
        "shap_values = explainer(X_test1)"
      ]
    },
    {
      "cell_type": "code",
      "execution_count": null,
      "metadata": {
        "id": "E5XMTnroXZyi"
      },
      "outputs": [],
      "source": [
        "#### Tree-SHAP, possível apenas para modelos em árvore ######\n",
        "\n",
        "import shap as shap\n",
        "\n",
        "explainer = shap.TreeExplainer(reg1)\n",
        "\n",
        "shap_values = explainer(X_test1)"
      ]
    },
    {
      "cell_type": "code",
      "execution_count": null,
      "metadata": {
        "colab": {
          "base_uri": "https://localhost:8080/",
          "height": 418
        },
        "id": "nLDo3k3bYEwK",
        "outputId": "22d4a55b-d03a-4799-be2e-43a3758148cf"
      },
      "outputs": [
        {
          "output_type": "display_data",
          "data": {
            "text/plain": [
              "<Figure size 576x468 with 1 Axes>"
            ],
            "image/png": "[encoded data removed]"
          },
          "metadata": {}
        }
      ],
      "source": [
        "shap.plots.bar(shap_values)"
      ]
    },
    {
      "cell_type": "code",
      "execution_count": null,
      "metadata": {
        "colab": {
          "base_uri": "https://localhost:8080/",
          "height": 542
        },
        "id": "p5t7mmJyaQH8",
        "outputId": "d26d3d86-fdda-4400-90f1-476008e53a9b"
      },
      "outputs": [
        {
          "output_type": "display_data",
          "data": {
            "text/plain": [
              "<Figure size 2016x576 with 1 Axes>"
            ],
            "image/png": "[encoded data removed]"
          },
          "metadata": {
            "needs_background": "light"
          }
        }
      ],
      "source": [
        "import matplotlib.pyplot as plt\n",
        "\n",
        "fig, ax = plt.subplots(figsize = (28,8))\n",
        "\n",
        "axis_font = {'fontname':'Helvetica', 'size':'22'}\n",
        "\n",
        "feature_importance = reg1.feature_importances_\n",
        "\n",
        "O=list(X_train1.columns)\n",
        "\n",
        "O[3]='\\u03B82'\n",
        "\n",
        "O[4]='\\u03B86'\n",
        "\n",
        "O[5]='\\u03B89'\n",
        "\n",
        "plt.bar(O, feature_importance)\n",
        "plt.xlabel('Feature Labels',fontsize=25)\n",
        "plt.ylabel('Feature Importances',fontsize=25)\n",
        "plt.yticks(fontsize=20,**axis_font)\n",
        "plt.xticks(fontsize=20,**axis_font)\n",
        "plt.title('Comparison of different Feature Importances',fontsize=20)\n",
        "plt.show()"
      ]
    },
    {
      "cell_type": "code",
      "execution_count": null,
      "metadata": {
        "id": "Nr6E9EFAqVUJ"
      },
      "outputs": [],
      "source": [
        "D={'Features':X_train1.columns,'Feature Importance':feature_importance}\n",
        "\n",
        "df2 = pd.DataFrame(data=D)\n",
        "\n",
        "df_aux=df2.sort_values(by=['Feature Importance'],ascending=False)\n",
        "\n",
        "df_aux2=df_aux[df_aux['Feature Importance']<0.01]"
      ]
    },
    {
      "cell_type": "code",
      "execution_count": null,
      "metadata": {
        "id": "2HJOYFFBmr4X"
      },
      "outputs": [],
      "source": [
        "!pip install eli5"
      ]
    },
    {
      "cell_type": "code",
      "execution_count": null,
      "metadata": {
        "colab": {
          "base_uri": "https://localhost:8080/",
          "height": 399
        },
        "id": "UQ3JCf1HmyOf",
        "outputId": "c9d4bb9d-0c26-48d7-81a0-262f84deaba8"
      },
      "outputs": [
        {
          "output_type": "execute_result",
          "data": {
            "text/plain": [
              "<IPython.core.display.HTML object>"
            ],
            "text/html": [
              "\n",
              "    <style>\n",
              "    table.eli5-weights tr:hover {\n",
              "        filter: brightness(85%);\n",
              "    }\n",
              "</style>\n",
              "\n",
              "\n",
              "\n",
              "    \n",
              "\n",
              "    \n",
              "\n",
              "    \n",
              "\n",
              "    \n",
              "\n",
              "    \n",
              "\n",
              "    \n",
              "\n",
              "\n",
              "    \n",
              "\n",
              "    \n",
              "\n",
              "    \n",
              "\n",
              "    \n",
              "\n",
              "    \n",
              "\n",
              "    \n",
              "\n",
              "\n",
              "    \n",
              "\n",
              "    \n",
              "\n",
              "    \n",
              "\n",
              "    \n",
              "\n",
              "    \n",
              "        <table class=\"eli5-weights eli5-feature-importances\" style=\"border-collapse: collapse; border: none; margin-top: 0em; table-layout: auto;\">\n",
              "    <thead>\n",
              "    <tr style=\"border: none;\">\n",
              "        <th style=\"padding: 0 1em 0 0.5em; text-align: right; border: none;\">Weight</th>\n",
              "        <th style=\"padding: 0 0.5em 0 0.5em; text-align: left; border: none;\">Feature</th>\n",
              "    </tr>\n",
              "    </thead>\n",
              "    <tbody>\n",
              "    \n",
              "        <tr style=\"background-color: hsl(120, 100.00%, 80.00%); border: none;\">\n",
              "            <td style=\"padding: 0 1em 0 0.5em; text-align: right; border: none;\">\n",
              "                1.5943\n",
              "                \n",
              "                    &plusmn; 0.0636\n",
              "                \n",
              "            </td>\n",
              "            <td style=\"padding: 0 0.5em 0 0.5em; text-align: left; border: none;\">\n",
              "                P4\n",
              "            </td>\n",
              "        </tr>\n",
              "    \n",
              "        <tr style=\"background-color: hsl(120, 100.00%, 97.38%); border: none;\">\n",
              "            <td style=\"padding: 0 1em 0 0.5em; text-align: right; border: none;\">\n",
              "                0.0875\n",
              "                \n",
              "                    &plusmn; 0.0059\n",
              "                \n",
              "            </td>\n",
              "            <td style=\"padding: 0 0.5em 0 0.5em; text-align: left; border: none;\">\n",
              "                P9\n",
              "            </td>\n",
              "        </tr>\n",
              "    \n",
              "        <tr style=\"background-color: hsl(120, 100.00%, 97.95%); border: none;\">\n",
              "            <td style=\"padding: 0 1em 0 0.5em; text-align: right; border: none;\">\n",
              "                0.0617\n",
              "                \n",
              "                    &plusmn; 0.0094\n",
              "                \n",
              "            </td>\n",
              "            <td style=\"padding: 0 0.5em 0 0.5em; text-align: left; border: none;\">\n",
              "                Theta9\n",
              "            </td>\n",
              "        </tr>\n",
              "    \n",
              "        <tr style=\"background-color: hsl(120, 100.00%, 98.65%); border: none;\">\n",
              "            <td style=\"padding: 0 1em 0 0.5em; text-align: right; border: none;\">\n",
              "                0.0339\n",
              "                \n",
              "                    &plusmn; 0.0048\n",
              "                \n",
              "            </td>\n",
              "            <td style=\"padding: 0 0.5em 0 0.5em; text-align: left; border: none;\">\n",
              "                P14\n",
              "            </td>\n",
              "        </tr>\n",
              "    \n",
              "        <tr style=\"background-color: hsl(120, 100.00%, 98.82%); border: none;\">\n",
              "            <td style=\"padding: 0 1em 0 0.5em; text-align: right; border: none;\">\n",
              "                0.0279\n",
              "                \n",
              "                    &plusmn; 0.0056\n",
              "                \n",
              "            </td>\n",
              "            <td style=\"padding: 0 0.5em 0 0.5em; text-align: left; border: none;\">\n",
              "                Theta6\n",
              "            </td>\n",
              "        </tr>\n",
              "    \n",
              "        <tr style=\"background-color: hsl(120, 100.00%, 99.26%); border: none;\">\n",
              "            <td style=\"padding: 0 1em 0 0.5em; text-align: right; border: none;\">\n",
              "                0.0143\n",
              "                \n",
              "                    &plusmn; 0.0015\n",
              "                \n",
              "            </td>\n",
              "            <td style=\"padding: 0 0.5em 0 0.5em; text-align: left; border: none;\">\n",
              "                Theta2\n",
              "            </td>\n",
              "        </tr>\n",
              "    \n",
              "        <tr style=\"background-color: hsl(120, 100.00%, 99.54%); border: none;\">\n",
              "            <td style=\"padding: 0 1em 0 0.5em; text-align: right; border: none;\">\n",
              "                0.0072\n",
              "                \n",
              "                    &plusmn; 0.0019\n",
              "                \n",
              "            </td>\n",
              "            <td style=\"padding: 0 0.5em 0 0.5em; text-align: left; border: none;\">\n",
              "                P13\n",
              "            </td>\n",
              "        </tr>\n",
              "    \n",
              "        <tr style=\"background-color: hsl(120, 100.00%, 99.66%); border: none;\">\n",
              "            <td style=\"padding: 0 1em 0 0.5em; text-align: right; border: none;\">\n",
              "                0.0048\n",
              "                \n",
              "                    &plusmn; 0.0012\n",
              "                \n",
              "            </td>\n",
              "            <td style=\"padding: 0 0.5em 0 0.5em; text-align: left; border: none;\">\n",
              "                V6\n",
              "            </td>\n",
              "        </tr>\n",
              "    \n",
              "        <tr style=\"background-color: hsl(120, 100.00%, 99.72%); border: none;\">\n",
              "            <td style=\"padding: 0 1em 0 0.5em; text-align: right; border: none;\">\n",
              "                0.0035\n",
              "                \n",
              "                    &plusmn; 0.0008\n",
              "                \n",
              "            </td>\n",
              "            <td style=\"padding: 0 0.5em 0 0.5em; text-align: left; border: none;\">\n",
              "                V9\n",
              "            </td>\n",
              "        </tr>\n",
              "    \n",
              "        <tr style=\"background-color: hsl(120, 100.00%, 99.80%); border: none;\">\n",
              "            <td style=\"padding: 0 1em 0 0.5em; text-align: right; border: none;\">\n",
              "                0.0022\n",
              "                \n",
              "                    &plusmn; 0.0007\n",
              "                \n",
              "            </td>\n",
              "            <td style=\"padding: 0 0.5em 0 0.5em; text-align: left; border: none;\">\n",
              "                P1\n",
              "            </td>\n",
              "        </tr>\n",
              "    \n",
              "        <tr style=\"background-color: hsl(120, 100.00%, 99.81%); border: none;\">\n",
              "            <td style=\"padding: 0 1em 0 0.5em; text-align: right; border: none;\">\n",
              "                0.0021\n",
              "                \n",
              "                    &plusmn; 0.0014\n",
              "                \n",
              "            </td>\n",
              "            <td style=\"padding: 0 0.5em 0 0.5em; text-align: left; border: none;\">\n",
              "                P10\n",
              "            </td>\n",
              "        </tr>\n",
              "    \n",
              "        <tr style=\"background-color: hsl(120, 100.00%, 99.85%); border: none;\">\n",
              "            <td style=\"padding: 0 1em 0 0.5em; text-align: right; border: none;\">\n",
              "                0.0014\n",
              "                \n",
              "                    &plusmn; 0.0008\n",
              "                \n",
              "            </td>\n",
              "            <td style=\"padding: 0 0.5em 0 0.5em; text-align: left; border: none;\">\n",
              "                V2\n",
              "            </td>\n",
              "        </tr>\n",
              "    \n",
              "        <tr style=\"background-color: hsl(120, 100.00%, 99.89%); border: none;\">\n",
              "            <td style=\"padding: 0 1em 0 0.5em; text-align: right; border: none;\">\n",
              "                0.0010\n",
              "                \n",
              "                    &plusmn; 0.0024\n",
              "                \n",
              "            </td>\n",
              "            <td style=\"padding: 0 0.5em 0 0.5em; text-align: left; border: none;\">\n",
              "                P11\n",
              "            </td>\n",
              "        </tr>\n",
              "    \n",
              "        <tr style=\"background-color: hsl(120, 100.00%, 99.89%); border: none;\">\n",
              "            <td style=\"padding: 0 1em 0 0.5em; text-align: right; border: none;\">\n",
              "                0.0009\n",
              "                \n",
              "                    &plusmn; 0.0011\n",
              "                \n",
              "            </td>\n",
              "            <td style=\"padding: 0 0.5em 0 0.5em; text-align: left; border: none;\">\n",
              "                Q9\n",
              "            </td>\n",
              "        </tr>\n",
              "    \n",
              "        <tr style=\"background-color: hsl(120, 100.00%, 99.95%); border: none;\">\n",
              "            <td style=\"padding: 0 1em 0 0.5em; text-align: right; border: none;\">\n",
              "                0.0003\n",
              "                \n",
              "                    &plusmn; 0.0010\n",
              "                \n",
              "            </td>\n",
              "            <td style=\"padding: 0 0.5em 0 0.5em; text-align: left; border: none;\">\n",
              "                P5\n",
              "            </td>\n",
              "        </tr>\n",
              "    \n",
              "        <tr style=\"background-color: hsl(120, 100.00%, 99.95%); border: none;\">\n",
              "            <td style=\"padding: 0 1em 0 0.5em; text-align: right; border: none;\">\n",
              "                0.0003\n",
              "                \n",
              "                    &plusmn; 0.0006\n",
              "                \n",
              "            </td>\n",
              "            <td style=\"padding: 0 0.5em 0 0.5em; text-align: left; border: none;\">\n",
              "                Q7\n",
              "            </td>\n",
              "        </tr>\n",
              "    \n",
              "        <tr style=\"background-color: hsl(120, 100.00%, 99.97%); border: none;\">\n",
              "            <td style=\"padding: 0 1em 0 0.5em; text-align: right; border: none;\">\n",
              "                0.0002\n",
              "                \n",
              "                    &plusmn; 0.0008\n",
              "                \n",
              "            </td>\n",
              "            <td style=\"padding: 0 0.5em 0 0.5em; text-align: left; border: none;\">\n",
              "                Q4\n",
              "            </td>\n",
              "        </tr>\n",
              "    \n",
              "        <tr style=\"background-color: hsl(120, 100.00%, 99.98%); border: none;\">\n",
              "            <td style=\"padding: 0 1em 0 0.5em; text-align: right; border: none;\">\n",
              "                0.0001\n",
              "                \n",
              "                    &plusmn; 0.0001\n",
              "                \n",
              "            </td>\n",
              "            <td style=\"padding: 0 0.5em 0 0.5em; text-align: left; border: none;\">\n",
              "                N2\n",
              "            </td>\n",
              "        </tr>\n",
              "    \n",
              "        <tr style=\"background-color: hsl(120, 100.00%, 99.99%); border: none;\">\n",
              "            <td style=\"padding: 0 1em 0 0.5em; text-align: right; border: none;\">\n",
              "                0.0000\n",
              "                \n",
              "                    &plusmn; 0.0007\n",
              "                \n",
              "            </td>\n",
              "            <td style=\"padding: 0 0.5em 0 0.5em; text-align: left; border: none;\">\n",
              "                Q12\n",
              "            </td>\n",
              "        </tr>\n",
              "    \n",
              "        <tr style=\"background-color: hsl(120, 100.00%, 99.99%); border: none;\">\n",
              "            <td style=\"padding: 0 1em 0 0.5em; text-align: right; border: none;\">\n",
              "                0.0000\n",
              "                \n",
              "                    &plusmn; 0.0005\n",
              "                \n",
              "            </td>\n",
              "            <td style=\"padding: 0 0.5em 0 0.5em; text-align: left; border: none;\">\n",
              "                P12\n",
              "            </td>\n",
              "        </tr>\n",
              "    \n",
              "    \n",
              "        \n",
              "            <tr style=\"background-color: hsl(120, 100.00%, 99.99%); border: none;\">\n",
              "                <td colspan=\"2\" style=\"padding: 0 0.5em 0 0.5em; text-align: center; border: none; white-space: nowrap;\">\n",
              "                    <i>&hellip; 7 more &hellip;</i>\n",
              "                </td>\n",
              "            </tr>\n",
              "        \n",
              "    \n",
              "    </tbody>\n",
              "</table>\n",
              "    \n",
              "\n",
              "    \n",
              "\n",
              "\n",
              "    \n",
              "\n",
              "    \n",
              "\n",
              "    \n",
              "\n",
              "    \n",
              "\n",
              "    \n",
              "\n",
              "    \n",
              "\n",
              "\n",
              "\n"
            ]
          },
          "metadata": {},
          "execution_count": 18
        }
      ],
      "source": [
        "import eli5\n",
        "from eli5.sklearn import PermutationImportance\n",
        "\n",
        "perm = PermutationImportance(reg1, random_state=42).fit(X_test1, y_test1)\n",
        "eli5.show_weights(perm, feature_names = X_train1.columns.tolist())"
      ]
    },
    {
      "cell_type": "markdown",
      "metadata": {
        "id": "OtQTUATdwxIt"
      },
      "source": [
        "# Feature Selection via Select from Model usando *Informação de Gini*\n",
        "\n",
        "## **Threshold** inicial foi colocado como **18% do valor médio** dos coeficientes de importância"
      ]
    },
    {
      "cell_type": "code",
      "execution_count": null,
      "metadata": {
        "id": "THyUKnZPdf1t"
      },
      "outputs": [],
      "source": [
        "th=np.array((reg1.feature_importances_)).mean()*0.18"
      ]
    },
    {
      "cell_type": "code",
      "execution_count": null,
      "metadata": {
        "id": "AfknrUW8yeLu"
      },
      "outputs": [],
      "source": [
        "from sklearn.feature_selection import SelectFromModel\n",
        "\n",
        "selector = SelectFromModel(estimator=ExtraTreesRegressor(n_estimators=50, random_state=42),threshold=th).fit(X_train1, y_train1)\n",
        "\n",
        "X=selector.transform(X1)\n",
        "\n",
        "saida=selector.get_feature_names_out()"
      ]
    },
    {
      "cell_type": "code",
      "execution_count": null,
      "metadata": {
        "colab": {
          "base_uri": "https://localhost:8080/"
        },
        "id": "RwwwBCPx-Cvv",
        "outputId": "bdcbe14b-5d31-471e-f312-8938d0d63668"
      },
      "outputs": [
        {
          "output_type": "execute_result",
          "data": {
            "text/plain": [
              "array(['V2', 'V6', 'V9', 'Theta2', 'Theta6', 'Theta9', 'P1', 'P4', 'P9',\n",
              "       'Q9', 'P10', 'P11', 'P13', 'P14'], dtype=object)"
            ]
          },
          "metadata": {},
          "execution_count": 56
        }
      ],
      "source": [
        "saida"
      ]
    },
    {
      "cell_type": "code",
      "execution_count": null,
      "metadata": {
        "colab": {
          "base_uri": "https://localhost:8080/"
        },
        "id": "c8WPzPEX_Kqx",
        "outputId": "18fb849e-3e53-47f7-9fca-f559c3ca2b5d"
      },
      "outputs": [
        {
          "output_type": "stream",
          "name": "stdout",
          "text": [
            "test set RMSE:1.2277695458563553, R2:0.8663129661029705, MAPE:6.888265979463708\n"
          ]
        }
      ],
      "source": [
        "X_train, X_test, y_train, y_test = train_test_split(X, Y1, test_size=0.3, random_state=42, shuffle=True)\n",
        "\n",
        "reg = ExtraTreesRegressor(n_estimators=50, random_state=42).fit(X_train, y_train)\n",
        "\n",
        "y_predict=reg.predict(X_test)\n",
        "\n",
        "evaluate(y_test,y_predict)"
      ]
    },
    {
      "cell_type": "markdown",
      "metadata": {
        "id": "tI6pZQjM6XGs"
      },
      "source": [
        "# **Otimização do Threshold para o feature selection**"
      ]
    },
    {
      "cell_type": "code",
      "execution_count": null,
      "metadata": {
        "id": "xsQaAXir6xJC"
      },
      "outputs": [],
      "source": [
        "from sklearn.feature_selection import SelectFromModel\n",
        "\n",
        "Npontos=50\n",
        "\n",
        "percent=np.linspace(0.01,0.7,Npontos)\n",
        "\n",
        "resultados=[]\n",
        "\n",
        "for i in range(len(percent)):\n",
        "\n",
        "  th=np.array((reg1.feature_importances_)).mean()*percent[i]\n",
        "\n",
        "  selector = SelectFromModel(estimator=ExtraTreesRegressor(n_estimators=50, random_state=42),threshold=th).fit(X_train1, y_train1)\n",
        "\n",
        "  X=selector.transform(X1)\n",
        "\n",
        "  X_train, X_test, y_train, y_test = train_test_split(X, Y1, test_size=0.3, random_state=42, shuffle=True)\n",
        "\n",
        "  reg = ExtraTreesRegressor(n_estimators=100, random_state=42).fit(X_train, y_train)\n",
        "\n",
        "  y_predict=reg.predict(X_test)\n",
        "\n",
        "  resultados.append(evaluate2(y_test,y_predict))"
      ]
    },
    {
      "cell_type": "code",
      "source": [
        "resultados2=[j-0.6 for j in resultados]\n",
        "\n",
        "min(resultados2)"
      ],
      "metadata": {
        "colab": {
          "base_uri": "https://localhost:8080/"
        },
        "id": "JSm197oIXbzo",
        "outputId": "9813d37b-3568-4ef8-9b3e-4c48dcc0c1be"
      },
      "execution_count": null,
      "outputs": [
        {
          "output_type": "execute_result",
          "data": {
            "text/plain": [
              "5.830378221285748"
            ]
          },
          "metadata": {},
          "execution_count": 50
        }
      ]
    },
    {
      "cell_type": "code",
      "execution_count": null,
      "metadata": {
        "colab": {
          "base_uri": "https://localhost:8080/",
          "height": 528
        },
        "id": "yA5K-a6o9qw2",
        "outputId": "450ac2f0-efe0-4134-cd95-571038213724"
      },
      "outputs": [
        {
          "output_type": "display_data",
          "data": {
            "text/plain": [
              "<Figure size 936x576 with 1 Axes>"
            ],
            "image/png": "[encoded data removed]"
          },
          "metadata": {
            "needs_background": "light"
          }
        }
      ],
      "source": [
        "resultados=np.array(resultados)\n",
        "\n",
        "import matplotlib.pyplot as plt\n",
        "\n",
        "fig, ax = plt.subplots(figsize = (13,8))\n",
        "\n",
        "axis_font = {'fontname':'sans-serif', 'size':'25'}\n",
        "\n",
        "plt.xlabel(r'$r \\ [\\%]$',**axis_font)\n",
        "plt.ylabel('MAPE (%)',**axis_font)\n",
        "plt.yticks(fontsize=25,**axis_font)\n",
        "plt.xticks(fontsize=25,**axis_font)\n",
        "\n",
        "plt.plot(100*percent,resultados2,'k--',linewidth=3.0)\n",
        "\n",
        "plt.scatter(15.5,5.8303,s=150,color='b')\n",
        "\n",
        "plt.text(23.5,6,r'$r_{Min}=15.0816\\%$',color='b',fontsize=20)\n",
        "\n",
        "plt.text(22,5.8303,r'$MAPE_{Min}=5.8303\\%$',color='b',fontsize=20)\n",
        "\n",
        "plt.savefig('/content/drive/MyDrive/AlgoritmosDOC/Barras_Margem_Estabilidade/FeatureSelection.eps', format='eps')\n",
        "\n",
        "plt.show()"
      ]
    },
    {
      "cell_type": "code",
      "execution_count": null,
      "metadata": {
        "colab": {
          "base_uri": "https://localhost:8080/"
        },
        "id": "Zn_Y3xjkhxfR",
        "outputId": "a48ae3ea-93b3-42b0-f19a-7a45aac26a54"
      },
      "outputs": [
        {
          "output_type": "stream",
          "name": "stdout",
          "text": [
            "O Threshold ótimo é 15.081633 % resultando em um MAPE = 5.830378 %\n"
          ]
        }
      ],
      "source": [
        "menor=min(resultados2)\n",
        "\n",
        "index=resultados2.index(menor)\n",
        "\n",
        "print('O Threshold ótimo é %f %% resultando em um MAPE = %.6f %%' %(percent[index]*100, menor))"
      ]
    },
    {
      "cell_type": "code",
      "execution_count": null,
      "metadata": {
        "colab": {
          "base_uri": "https://localhost:8080/"
        },
        "id": "6Kf4UetvorCo",
        "outputId": "767e16b5-4756-4504-9c9a-8ce17454ce17"
      },
      "outputs": [
        {
          "output_type": "stream",
          "name": "stdout",
          "text": [
            "['V2' 'V6' 'V9' 'Theta2' 'Theta6' 'Theta9' 'P1' 'P4' 'P9' 'Q9' 'P10' 'P13'\n",
            " 'P14']\n"
          ]
        }
      ],
      "source": [
        "from sklearn.feature_selection import SelectFromModel\n",
        "\n",
        "th_otimo=np.array((reg1.feature_importances_)).mean()*percent[index]\n",
        "\n",
        "selector = SelectFromModel(estimator=ExtraTreesRegressor(n_estimators=50, random_state=42),threshold=th_otimo).fit(X_train1, y_train1)\n",
        "\n",
        "X=selector.transform(X1)\n",
        "\n",
        "saida=selector.get_feature_names_out()\n",
        "\n",
        "print(saida)"
      ]
    },
    {
      "cell_type": "markdown",
      "metadata": {
        "id": "dme6wLqbuVRB"
      },
      "source": [
        "## **Análise CONFORMAL PREDICTION**\n",
        "\n",
        "## Conformal prediction using Standard conformal regressors"
      ]
    },
    {
      "cell_type": "code",
      "execution_count": null,
      "metadata": {
        "id": "YxeQJi9IuAa9"
      },
      "outputs": [],
      "source": [
        "from crepes import ConformalRegressor, ConformalPredictiveSystem\n",
        "from crepes.fillings import (sigma_variance,sigma_variance_oob,sigma_knn,binning)"
      ]
    },
    {
      "cell_type": "code",
      "execution_count": null,
      "metadata": {
        "colab": {
          "base_uri": "https://localhost:8080/"
        },
        "id": "l41gdLYduHjz",
        "outputId": "eb518a8d-e54a-4b8e-e22a-137ddc589c8f"
      },
      "outputs": [
        {
          "data": {
            "text/plain": [
              "ExtraTreesRegressor(random_state=42)"
            ]
          },
          "execution_count": 63,
          "metadata": {},
          "output_type": "execute_result"
        }
      ],
      "source": [
        "X_train1, X_test1, y_train1, y_test1 = train_test_split(X1, Y1, test_size=0.5, random_state=42, shuffle=True)\n",
        "\n",
        "X_proper_training, X_calibration, y_proper_training, y_calibration = train_test_split(X_train1, y_train1, test_size=0.25)\n",
        "\n",
        "learner_proper = ExtraTreesRegressor(n_estimators=100, random_state=42)\n",
        "\n",
        "learner_proper.fit(X_proper_training, y_proper_training)"
      ]
    },
    {
      "cell_type": "code",
      "execution_count": null,
      "metadata": {
        "colab": {
          "base_uri": "https://localhost:8080/"
        },
        "id": "DggwZvgBu97R",
        "outputId": "194149de-954a-43aa-f1cf-5f27047f8ea1"
      },
      "outputs": [
        {
          "data": {
            "text/plain": [
              "ConformalRegressor(fitted=True, normalized=False, mondrian=False)"
            ]
          },
          "execution_count": 64,
          "metadata": {},
          "output_type": "execute_result"
        }
      ],
      "source": [
        "cr_standard = ConformalRegressor()\n",
        "\n",
        "residuals_calibration = y_calibration - learner_proper.predict(X_calibration)\n",
        "\n",
        "cr_standard.fit(residuals=residuals_calibration)"
      ]
    },
    {
      "cell_type": "code",
      "execution_count": null,
      "metadata": {
        "colab": {
          "base_uri": "https://localhost:8080/",
          "height": 139
        },
        "id": "mmSyYWctvNKt",
        "outputId": "5ab3e275-48f0-4f5e-8291-7b25bab5314c"
      },
      "outputs": [
        {
          "data": {
            "text/plain": [
              "array([[10.83073 , 19.93903 ],\n",
              "       [12.78789 , 21.89619 ],\n",
              "       [12.15712 , 21.26542 ],\n",
              "       ...,\n",
              "       [17.751088, 26.859388],\n",
              "       [20.40088 , 29.50918 ],\n",
              "       [ 6.935781, 16.044081]])"
            ]
          },
          "metadata": {},
          "output_type": "display_data"
        }
      ],
      "source": [
        "y_hat_proper = learner_proper.predict(X_test1)\n",
        "\n",
        "intervals = cr_standard.predict(y_hat=y_hat_proper, confidence=0.95)\n",
        "\n",
        "display(intervals)"
      ]
    },
    {
      "cell_type": "code",
      "execution_count": null,
      "metadata": {
        "id": "Oes1SajD7veY"
      },
      "outputs": [],
      "source": [
        "Delta=[]\n",
        "\n",
        "for i in range(len(intervals)):\n",
        "  Delta.append(intervals[i][1]-intervals[i][0])"
      ]
    },
    {
      "cell_type": "code",
      "execution_count": null,
      "metadata": {
        "colab": {
          "base_uri": "https://localhost:8080/"
        },
        "id": "ahVAyYrT8Bns",
        "outputId": "5b1a560c-355f-4ecf-a3b5-33eb6bd7e048"
      },
      "outputs": [
        {
          "data": {
            "text/plain": [
              "9.10829999999999"
            ]
          },
          "execution_count": 71,
          "metadata": {},
          "output_type": "execute_result"
        }
      ],
      "source": [
        "max(Delta)"
      ]
    },
    {
      "cell_type": "markdown",
      "metadata": {
        "id": "ORT6pRsCzsKi"
      },
      "source": [
        "## **Análise CONFORMAL PREDICTION**\n",
        "## Conformal prediction using Normalized conformal regressors"
      ]
    },
    {
      "cell_type": "code",
      "execution_count": null,
      "metadata": {
        "id": "j_FpngP-z1r_"
      },
      "outputs": [],
      "source": [
        "sigmas_calibration_var = sigma_variance(X=X_calibration,learner=learner_proper)\n",
        "\n",
        "cr_normalized_var = ConformalRegressor().fit(residuals=residuals_calibration, sigmas=sigmas_calibration_var)\n",
        "\n",
        "sigmas_test_var = sigma_variance(X=X_test1, learner=learner_proper)\n",
        "\n",
        "intervals_normalized_var = cr_normalized_var.predict(y_hat=y_hat_proper, sigmas=sigmas_test_var)\n"
      ]
    },
    {
      "cell_type": "code",
      "execution_count": null,
      "metadata": {
        "colab": {
          "base_uri": "https://localhost:8080/"
        },
        "id": "_yquxc6Z0Q5L",
        "outputId": "0f5f40e8-b1b3-4c48-a769-69f500900309"
      },
      "outputs": [
        {
          "data": {
            "text/plain": [
              "array([[14.45503039, 16.31472961],\n",
              "       [15.80590785, 18.87817215],\n",
              "       [15.56896424, 17.85357576],\n",
              "       ...,\n",
              "       [-0.63307251, 45.24354851],\n",
              "       [20.7862243 , 29.1238357 ],\n",
              "       [10.68247679, 12.29738521]])"
            ]
          },
          "execution_count": 67,
          "metadata": {},
          "output_type": "execute_result"
        }
      ],
      "source": [
        "intervals_normalized_var"
      ]
    },
    {
      "cell_type": "markdown",
      "metadata": {
        "id": "82mCsYYww-E-"
      },
      "source": [
        "## **Análise CONFORMAL PREDICTION**\n",
        "\n",
        "## Conformal prediction using Standard regressors with out-of-bag calibration\n"
      ]
    },
    {
      "cell_type": "code",
      "execution_count": null,
      "metadata": {
        "id": "uJubzvD1wgpJ"
      },
      "outputs": [],
      "source": [
        "learner_full = ExtraTreesRegressor(n_jobs=-1, n_estimators=100, random_state=42,bootstrap=True, oob_score=True)\n",
        "learner_full.fit(X_train1, y_train1)\n",
        "residuals_oob = y_train1 - learner_full.oob_prediction_"
      ]
    },
    {
      "cell_type": "code",
      "execution_count": null,
      "metadata": {
        "colab": {
          "base_uri": "https://localhost:8080/",
          "height": 139
        },
        "id": "Jh4pbDPOx2n_",
        "outputId": "4a91adf3-0d1c-484d-c10c-743e8c80d4e3"
      },
      "outputs": [
        {
          "data": {
            "text/plain": [
              "array([[ 9.65212 , 20.65732 ],\n",
              "       [11.70523 , 22.71043 ],\n",
              "       [11.43953 , 22.44473 ],\n",
              "       ...,\n",
              "       [16.826176, 27.831376],\n",
              "       [19.56668 , 30.57188 ],\n",
              "       [ 5.646401, 16.651601]])"
            ]
          },
          "metadata": {},
          "output_type": "display_data"
        }
      ],
      "source": [
        "cr_standard_oob = ConformalRegressor().fit(residuals=residuals_oob)\n",
        "\n",
        "y_hat_full = learner_full.predict(X_test1)\n",
        "\n",
        "intervals_standard_oob = cr_standard_oob.predict(y_hat=y_hat_full)\n",
        "\n",
        "display(intervals_standard_oob)"
      ]
    }
  ],
  "metadata": {
    "colab": {
      "provenance": []
    },
    "kernelspec": {
      "display_name": "Python 3",
      "name": "python3"
    },
    "language_info": {
      "name": "python"
    }
  },
  "nbformat": 4,
  "nbformat_minor": 0
}